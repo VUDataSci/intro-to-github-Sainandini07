{
  "nbformat": 4,
  "nbformat_minor": 0,
  "metadata": {
    "colab": {
      "provenance": [],
      "authorship_tag": "ABX9TyOMARdBthiYYTbmbl5zl1si",
      "include_colab_link": true
    },
    "kernelspec": {
      "name": "python3",
      "display_name": "Python 3"
    },
    "language_info": {
      "name": "python"
    }
  },
  "cells": [
    {
      "cell_type": "markdown",
      "metadata": {
        "id": "view-in-github",
        "colab_type": "text"
      },
      "source": [
        "<a href=\"https://colab.research.google.com/github/VUDataSci/intro-to-github-Sainandini07/blob/main/test0_.ipynb\" target=\"_parent\"><img src=\"https://colab.research.google.com/assets/colab-badge.svg\" alt=\"Open In Colab\"/></a>"
      ]
    },
    {
      "cell_type": "markdown",
      "source": [
        "This is a test/first try of collaborating google colab with my git repository."
      ],
      "metadata": {
        "id": "6uuHNgJh61UU"
      }
    },
    {
      "cell_type": "code",
      "execution_count": 1,
      "metadata": {
        "colab": {
          "base_uri": "https://localhost:8080/"
        },
        "id": "_1Y_sToT6toR",
        "outputId": "fa78e114-d7f3-4ce0-b41a-ff6bbeddd7f6"
      },
      "outputs": [
        {
          "output_type": "stream",
          "name": "stdout",
          "text": [
            "~\n"
          ]
        }
      ],
      "source": [
        "print(\"~\")"
      ]
    },
    {
      "cell_type": "markdown",
      "source": [
        "THIS IS ANOTHER KIND OF PRACTICE AND TEST BECAUSE WHY NOT?"
      ],
      "metadata": {
        "id": "Re42WdH2706r"
      }
    },
    {
      "cell_type": "code",
      "source": [
        "print(\"EDA-Day 2 of class\")"
      ],
      "metadata": {
        "colab": {
          "base_uri": "https://localhost:8080/"
        },
        "id": "TtuawNID76k0",
        "outputId": "b2ce75d5-b591-42ab-9d46-36af889f4958"
      },
      "execution_count": 2,
      "outputs": [
        {
          "output_type": "stream",
          "name": "stdout",
          "text": [
            "EDA-Day 2 of class\n"
          ]
        }
      ]
    }
  ]
}